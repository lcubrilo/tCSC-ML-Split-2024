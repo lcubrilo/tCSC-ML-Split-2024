{
 "cells": [
  {
   "cell_type": "markdown",
   "metadata": {},
   "source": [
    "# Machine Learning Applications for Accelerators\n",
    "\n",
    "## Exercise 1a\n",
    "Build your own Bayesian Optimisation algo. \n",
    "Use the GP and data from Exercise 1 and optimise it between $[0,2π]$  \n",
    "\n"
   ]
  },
  {
   "cell_type": "code",
   "execution_count": 75,
   "metadata": {},
   "outputs": [],
   "source": [
    "from math import sin, pi, ceil, floor\n",
    "import matplotlib.pyplot as plt\n",
    "import numpy as np\n",
    "\n",
    "# Generate 5 test points for ground truth and plot \n",
    "x_train = np.linspace(0, 2*pi, 5)\n",
    "#x_train = [0,1,2,3,4]\n",
    "y_train = [sin(x) for x in x_train]\n",
    "\n",
    "# plt.scatter(x_train, y_train, label='Ground truth')\n",
    "# plt.legend()\n",
    "# plt.show()"
   ]
  },
  {
   "cell_type": "code",
   "execution_count": 76,
   "metadata": {},
   "outputs": [],
   "source": [
    "\n",
    "def rbf_kernel(x1, x2, length_scale=1.0):\n",
    "    sqdist = np.subtract.outer(x1, x2) ** 2\n",
    "    return np.exp(-0.5 * sqdist / length_scale**2)\n",
    "\n",
    "K_train_train = rbf_kernel(x_train, x_train)\n",
    "\n",
    "\n",
    "minn, maxx = min(x_train), max(x_train)\n",
    "minn, maxx = floor(minn), ceil(maxx)\n",
    "\n",
    "\n",
    "test_amount = 20*(maxx-minn)\n",
    "x_test = np.linspace(minn, maxx, test_amount)\n",
    "\n",
    "y_true_vals = [sin(el) for el in x_test]\n",
    "\n",
    "K_test_train = rbf_kernel(x_test, x_train)\n",
    "K_train_test = np.transpose( K_test_train)\n",
    "\n",
    "K_test_test = rbf_kernel(x_test, x_test)\n",
    "\n",
    "def mean(K_test_train, K_train_train, y_train):\n",
    "    return K_test_train @ np.linalg.inv(K_train_train) @ y_train\n",
    "\n",
    "def variance(K_test_test, K_test_train, K_train_train, K_train_test):\n",
    "    return np.subtract(K_test_test, (K_test_train @ np.linalg.inv(K_train_train) @ K_train_test))\n"
   ]
  },
  {
   "cell_type": "code",
   "execution_count": null,
   "metadata": {},
   "outputs": [],
   "source": [
    "from math import pi, e \n",
    "\n",
    "def gaussian(x, mu, sigma):\n",
    "    denom = (2*pi*sigma*sigma)**0.5\n",
    "    exp = -((x-mu)**2/(2*sigma*sigma))\n",
    "    return e**exp/denom\n",
    "\n",
    "meann = mean(K_test_train, K_train_train, y_train)\n",
    "variancee_mat = variance(K_test_test, K_test_train, K_train_train, K_train_test)\n",
    "\n",
    "meann = np.array(meann)\n",
    "variancee_mat = np.array(variancee_mat)\n",
    "\n",
    "variancee = np.diag(variancee_mat)\n",
    "\n",
    "# print(meann.shape, \"\\n\", variancee.shape)\n",
    "\n",
    "\n",
    "y_test = gaussian(x_test, meann, variancee)\n",
    "\n",
    "# plt.plot(x_test, y_test, color = \"blue\")\n",
    "# plt.scatter(x_train, y_train, color=\"orange\")\n",
    "# plt.show()"
   ]
  },
  {
   "cell_type": "code",
   "execution_count": null,
   "metadata": {},
   "outputs": [],
   "source": [
    "def plot_gp_with_confidence(x_train, y_train, x_test, mean_pred, var_pred, show=True, confidence=1.96):\n",
    "    std_pred = np.sqrt(var_pred)  # Standard deviation is the square root of the variance\n",
    "\n",
    "    # Plot the mean prediction\n",
    "    plt.plot(x_test, y_true_vals, color='orange', label='Ground truth')\n",
    "    plt.plot(x_test, mean_pred, color=\"blue\", label=\"GP Mean\")\n",
    "\n",
    "    # Plot the confidence interval\n",
    "    plt.fill_between(x_test, \n",
    "                     mean_pred - confidence * std_pred, \n",
    "                     mean_pred + confidence * std_pred, \n",
    "                     color=\"lightblue\", alpha=0.5, label=\"95% Confidence Interval\")\n",
    "    \n",
    "    # Plot the original data points\n",
    "    plt.scatter(x_train, y_train, color=\"orange\", label=\"Training Data\")\n",
    "    \n",
    "    # Add labels and legend\n",
    "    plt.xlabel(\"x\")\n",
    "    plt.ylabel(\"f(x)\")\n",
    "    plt.title(\"Gaussian Process Regression with Confidence Intervals\")\n",
    "    plt.legend()\n",
    "    if show:\n",
    "        plt.show()\n",
    "\n",
    "plot_gp_with_confidence(x_train, y_train, x_test, meann, variancee)"
   ]
  },
  {
   "cell_type": "markdown",
   "metadata": {},
   "source": []
  },
  {
   "cell_type": "markdown",
   "metadata": {},
   "source": [
    " * Define the Acquisition Function UCB method for a single data point \n",
    "    * e.g. `def acq_ucb(x):`...  \n",
    "Iteratively find the optimum of $f(x)$ by optimising the Acquisition Function at each iteration.  "
   ]
  },
  {
   "cell_type": "code",
   "execution_count": null,
   "metadata": {},
   "outputs": [],
   "source": [
    "lambdaa = 2.0\n",
    "# lambdaa = 0.5\n",
    "# lambdaa = 5.0\n",
    "def upper_confidence_bound():\n",
    "    return np.add(meann, np.multiply(lambdaa, variancee))\n",
    "\n",
    "plot_gp_with_confidence(x_train, y_train, x_test, meann, variancee, show=False)\n",
    "plt.plot(x_test, upper_confidence_bound(), color=\"green\", label=f\"UCB lambda={lambdaa}\")\n",
    "plt.show()"
   ]
  }
 ],
 "metadata": {
  "kernelspec": {
   "display_name": "Python 3",
   "language": "python",
   "name": "python3"
  },
  "language_info": {
   "codemirror_mode": {
    "name": "ipython",
    "version": 3
   },
   "file_extension": ".py",
   "mimetype": "text/x-python",
   "name": "python",
   "nbconvert_exporter": "python",
   "pygments_lexer": "ipython3",
   "version": "3.12.1"
  }
 },
 "nbformat": 4,
 "nbformat_minor": 2
}
